{
 "cells": [
  {
   "cell_type": "markdown",
   "id": "8f5abb69",
   "metadata": {},
   "source": [
    "## Testing Permutation Synchronization using CMU House Sequence dataset"
   ]
  },
  {
   "cell_type": "code",
   "execution_count": 3,
   "id": "64713aaa",
   "metadata": {},
   "outputs": [],
   "source": [
    "import torch\n",
    "import numpy as np\n",
    "import matplotlib.pyplot as plt\n",
    "from scipy.optimize import linear_sum_assignment\n",
    "from scipy.io import loadmat\n",
    "import sys, pathlib\n",
    "\n",
    "repo_root = pathlib.Path.cwd().parent        \n",
    "sys.path.append(str(repo_root))\n",
    "\n",
    "from permsync.perm_sync import perm_sync, error_against_ground_truth"
   ]
  },
  {
   "cell_type": "code",
   "execution_count": 4,
   "id": "3365ee98",
   "metadata": {},
   "outputs": [],
   "source": [
    "# load data\n",
    "mat = loadmat(\"data/house.mat\", squeeze_me=True)\n",
    "data = mat[\"data\"]   # list of m cells, each nx2\n",
    "scf  = mat[\"scf\"]    # list of m cells, each n×d\n",
    "N    = len(data)        # number of frames\n",
    "n    = data[0].shape[0] # landmarks per frame"
   ]
  },
  {
   "cell_type": "code",
   "execution_count": 5,
   "id": "f4df90c0",
   "metadata": {},
   "outputs": [
    {
     "name": "stdout",
     "output_type": "stream",
     "text": [
      "Number of frames: 111, landmarks per image 30\n"
     ]
    }
   ],
   "source": [
    "print(f\"Number of frames: {N}, landmarks per image {n}\")"
   ]
  },
  {
   "cell_type": "code",
   "execution_count": 6,
   "id": "0dcae4be",
   "metadata": {},
   "outputs": [],
   "source": [
    "rw = [frame[0, :] for frame in data]  # x-coords\n",
    "cl = [frame[1, :] for frame in data]  # y-coords\n",
    "\n",
    "# pairewise matching using features\n",
    "P = [[None for _ in range(N)] for _ in range(N)]\n",
    "\n",
    "base = np.arange(n)  # [0, 1, ..., 29]\n",
    "\n",
    "for i in range(N):\n",
    "    for j in range(i, N):\n",
    "        m1 = np.vstack((rw[i], cl[i]))  # shape (2, n)\n",
    "        m2 = np.vstack((rw[j], cl[j]))\n",
    "\n",
    "        if i == j:\n",
    "            c = base.copy()\n",
    "        else:\n",
    "            # cost matrix (feature distance)\n",
    "            cormat = np.zeros((n, n))\n",
    "            for k1 in range(n):\n",
    "                for k2 in range(n):\n",
    "                    cormat[k1, k2] = np.linalg.norm(scf[i][k1, :] - scf[j][k2, :])\n",
    "\n",
    "            # Hungarian algorithm for optimal matching\n",
    "            row_ind, col_ind = linear_sum_assignment(cormat)\n",
    "            c = np.zeros(n, dtype=int)\n",
    "            c[row_ind] = col_ind\n",
    "\n",
    "            # Handle unmatched nodes by random matching\n",
    "            confused = np.unique(c)\n",
    "            cr = np.setdiff1d(base, confused)\n",
    "            br = np.setdiff1d(base, base[confused])\n",
    "\n",
    "            kf = np.random.permutation(len(cr))\n",
    "            c[br] = cr[kf]\n",
    "\n",
    "        # permutation results\n",
    "        sorted_idx = np.argsort(c)\n",
    "        P[i][j] = c\n",
    "        P[j][i] = base[sorted_idx]"
   ]
  },
  {
   "cell_type": "code",
   "execution_count": 7,
   "id": "6c9ae02c",
   "metadata": {},
   "outputs": [],
   "source": [
    "# define method to compute error on P, pairewise matchings\n",
    "# gt are identity matrix\n",
    "\n",
    "def compute_relative_error(P, N, n):\n",
    "    \"\"\"\n",
    "    Args:\n",
    "        P: list of lists; P[i][j] is a permutation array of size n (mapping i → j)\n",
    "        N: number of frames\n",
    "        n: number of keypoints per frame\n",
    "\n",
    "    Returns:\n",
    "        relative error (float)\n",
    "    \"\"\"\n",
    "    total_errors = 0\n",
    "    total_entries = 0\n",
    "\n",
    "    for i in range(N):\n",
    "        for j in range(i+1, N):\n",
    "            pred_perm = P[i][j]\n",
    "            true_perm = np.arange(n)  # ground truth: identity\n",
    "            error = np.sum(pred_perm != true_perm)\n",
    "            total_errors += error\n",
    "            total_entries += n\n",
    "\n",
    "    return total_errors / total_entries\n"
   ]
  },
  {
   "cell_type": "code",
   "execution_count": 8,
   "id": "b99b239e",
   "metadata": {},
   "outputs": [],
   "source": [
    "error_hungarian = compute_relative_error(P, N, n)"
   ]
  },
  {
   "cell_type": "code",
   "execution_count": 9,
   "id": "d92a5d6f",
   "metadata": {},
   "outputs": [
    {
     "name": "stdout",
     "output_type": "stream",
     "text": [
      "Relative matching error using hungarian: 0.2071\n"
     ]
    }
   ],
   "source": [
    "print(f\"Relative matching error using hungarian: {error_hungarian:.4f}\")"
   ]
  },
  {
   "cell_type": "markdown",
   "id": "2910f9a1",
   "metadata": {},
   "source": [
    "### use the pairewise matchings to build T and perform perm_sync"
   ]
  },
  {
   "cell_type": "code",
   "execution_count": 10,
   "id": "27c0613c",
   "metadata": {},
   "outputs": [],
   "source": [
    "def build_T_tensor(P, N, n):\n",
    "    T = torch.zeros((N, N, n, n))\n",
    "    I = torch.eye(n)\n",
    "\n",
    "    for i in range(N):\n",
    "        for j in range(N):\n",
    "            idx = P[i][j]  # This is a permutation of [0,...,n-1]\n",
    "            T[i, j] = I[:, idx]  # Get the corresponding permutation matrix\n",
    "    return T"
   ]
  },
  {
   "cell_type": "code",
   "execution_count": 11,
   "id": "88d0eba5",
   "metadata": {},
   "outputs": [],
   "source": [
    "T = build_T_tensor(P, N, n)\n",
    "tau = perm_sync(T, N, n)"
   ]
  },
  {
   "cell_type": "code",
   "execution_count": 12,
   "id": "8b46a1cb",
   "metadata": {},
   "outputs": [],
   "source": [
    "error_sync = compute_relative_error(T, N, n)"
   ]
  },
  {
   "cell_type": "code",
   "execution_count": 13,
   "id": "4db2f983",
   "metadata": {},
   "outputs": [
    {
     "name": "stdout",
     "output_type": "stream",
     "text": [
      "Relative error after synchronizing: 0.0333\n"
     ]
    }
   ],
   "source": [
    "print(f\"Relative error after synchronizing: {error_sync:.4f}\")"
   ]
  }
 ],
 "metadata": {
  "kernelspec": {
   "display_name": "perm-sync",
   "language": "python",
   "name": "python3"
  },
  "language_info": {
   "codemirror_mode": {
    "name": "ipython",
    "version": 3
   },
   "file_extension": ".py",
   "mimetype": "text/x-python",
   "name": "python",
   "nbconvert_exporter": "python",
   "pygments_lexer": "ipython3",
   "version": "3.11.12"
  }
 },
 "nbformat": 4,
 "nbformat_minor": 5
}
